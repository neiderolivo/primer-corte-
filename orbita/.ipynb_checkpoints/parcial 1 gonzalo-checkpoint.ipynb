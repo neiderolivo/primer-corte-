{
 "cells": [
  {
   "cell_type": "markdown",
   "metadata": {},
   "source": [
    "En este problema vamos a considerar un filtro de cafe el cual cae bajo la acción de la gravedad e incluye la fricción. Partiendo de la segunda ley de Newton podemos llegar a la ecuación que modela este movimiento.\n",
    "\n",
    "\\begin{equation}\n",
    "\\bar{F}= m\\bar{a}\n",
    "\\end{equation}\n",
    "\n",
    "la cual tambien puede ser escrita:\n",
    "\n",
    "\\begin{equation}\n",
    "\\bar{F}= m\\frac{dv}{dt}\n",
    "\\end{equation}\n",
    "\n",
    "haciendo sumatoria de fuerzas tenemos:\n",
    "\n",
    "\\begin{equation}\n",
    "F_{a}-F_{g} = -m\\frac{dv}{dt}\n",
    "\\end{equation}\n",
    "\n",
    "Donde F_{a} = cv y F_{g} = mg; de esta manera:\n",
    "\n",
    "\\begin{equation}\n",
    "cv-mg = -m\\frac{dv}{dt}\n",
    "\\end{equation}\n",
    "\n",
    "Despejando la aceleración tenemos:\n",
    "\n",
    "\\begin{equation}\n",
    "\\frac{dv}{dt} = g - \\frac{m}{c}v\n",
    "\\end{equation}\n",
    "\n",
    "Esta es la ecuacion que nos describe el movimiento del filtro de cafe al caer en caida libre.\n",
    "\n",
    "Bajo esta ecuacion hallaremos la solucion analitica de dicha ecuación.\n",
    "\n",
    "Aplicando integral tenemos:\n",
    "\n",
    "\\begin{equation}\n",
    "\\int \\frac{dv}{g - \\frac{c}{m}v} = \\int dt\n",
    "\\end{equation}\n",
    "\n",
    "Aplicando sustitución simple:\n",
    "\n",
    "\\begin{equation}\n",
    "u = {g - \\frac{c}{m}v} \n",
    "\\end{equation}\n",
    "\n",
    "\\begin{equation}\n",
    "du = -\\frac{c}{m}dt \n",
    "\\end{equation}\n",
    "\n",
    "\\begin{equation}\n",
    "-\\frac{m}{c}du = dt \n",
    "\\end{equation}\n",
    "\n",
    "Sustituyendo en la integral:\n",
    "\n",
    "\\begin{equation}\n",
    "\\int_{v_{0}}^{v}-\\frac{mdu}{cu} = \\int_{t_{0}}^{t} dt\n",
    "\\end{equation}\n",
    "\n",
    "En este caso:\n",
    "\n",
    "\\begin{equation}\n",
    "v_{0} = 0       ............     t_{0} = 0\n",
    "\\end{equation}\n",
    "\n",
    "pot tanto:\n",
    "\n",
    "\\begin{equation}\n",
    "ln(g - \\frac{cv}{m}) - ln (g) = -\\frac{c}{m}t\n",
    "\\end{equation}\n",
    "\n",
    "\\begin{equation}\n",
    "\\frac{g-\\frac{c}{m}v}{g} = e^{-\\frac{c}{m}t}\n",
    "\\end{equation}\n",
    "\n",
    "\\begin{equation}\n",
    "g-\\frac{c}{m}v = ge^{-\\frac{c}{m}t}\n",
    "\\end{equation}\n",
    "\n",
    "\\begin{equation}\n",
    "g-ge^{-\\frac{c}{m}t} = \\frac{c}{m}v\n",
    "\\end{equation}\n",
    "\n",
    "por ultimo despejando v encontramos la solucion analitica de la ecuación que describe el movimento del objeto.\n",
    "\n",
    "\\begin{equation}\n",
    "v=g\\frac{m}{c}(1-ge^{-\\frac{c}{m}t})\n",
    "\\end{equation}\n",
    "\n",
    "\n"
   ]
  },
  {
   "cell_type": "code",
   "execution_count": 1,
   "metadata": {},
   "outputs": [],
   "source": [
    "from numpy import loadtxt, shape\n",
    "from matplotlib.pyplot import plot as plt\n",
    "import numpy as np\n",
    "from pylab import plot, show, legend, xlabel, ylabel, title, grid\n",
    "from math import exp"
   ]
  },
  {
   "cell_type": "markdown",
   "metadata": {},
   "source": [
    "Primero comenzamos estrayendo la carpeta falling.txt en la cual contiene los datos de un filtro de café que cae libremente e incluye la fricción con el aire. En la primer columna aparece el tiempo y en la segunda la posición.\n"
   ]
  },
  {
   "cell_type": "code",
   "execution_count": 14,
   "metadata": {},
   "outputs": [
    {
     "name": "stdout",
     "output_type": "stream",
     "text": [
      "0.0247\n",
      "0.4188\n",
      "[[ 0.2055  0.4188]\n",
      " [ 0.2302  0.4164]\n",
      " [ 0.255   0.4128]\n",
      " [ 0.2797  0.4082]\n",
      " [ 0.3045  0.4026]\n",
      " [ 0.3292  0.3958]\n",
      " [ 0.3539  0.3878]\n",
      " [ 0.3786  0.3802]\n",
      " [ 0.4033  0.3708]\n",
      " [ 0.428   0.3609]\n",
      " [ 0.4526  0.3505]\n",
      " [ 0.4773  0.34  ]\n",
      " [ 0.502   0.3297]\n",
      " [ 0.5266  0.3181]\n",
      " [ 0.5513  0.3051]\n",
      " [ 0.5759  0.2913]\n",
      " [ 0.6005  0.2788]\n",
      " [ 0.6252  0.2667]\n",
      " [ 0.6498  0.2497]\n",
      " [ 0.6744  0.2337]\n",
      " [ 0.699   0.2175]\n",
      " [ 0.7236  0.2008]\n",
      " [ 0.7482  0.1846]\n",
      " [ 0.7728  0.1696]\n",
      " [ 0.7974  0.1566]\n",
      " [ 0.822   0.1393]\n",
      " [ 0.8466  0.1263]]\n"
     ]
    }
   ],
   "source": [
    "data = loadtxt('falling.txt', comments=\"//\") #llamado al archivo donde estan los datos del filtro de cafe\n",
    "operacion = data[0,1]\n",
    "h = data[1,0]-data[0,0]\n",
    "print(h)\n",
    "print(operacion)\n",
    "print(data)"
   ]
  },
  {
   "cell_type": "markdown",
   "metadata": {},
   "source": [
    "Acontinuacion procederemos a graficar estos datos."
   ]
  },
  {
   "cell_type": "code",
   "execution_count": 3,
   "metadata": {},
   "outputs": [
    {
     "data": {
      "text/plain": [
       "<matplotlib.text.Text at 0x7f3d3b1baf60>"
      ]
     },
     "execution_count": 3,
     "metadata": {},
     "output_type": "execute_result"
    },
    {
     "data": {
      "image/png": "[encoded data removed]",
      "text/plain": [
       "<matplotlib.figure.Figure at 0x7f3d3b1a6400>"
      ]
     },
     "metadata": {},
     "output_type": "display_data"
    }
   ],
   "source": [
    "plt(data[:,0], data[:,1], 'o')\n",
    "ylabel('altura[m]')\n",
    "title('Altura vs Tiempo')\n",
    "xlabel('tiempo[s]')"
   ]
  },
  {
   "cell_type": "markdown",
   "metadata": {},
   "source": [
    "Una vez realizada esta grafica procederemos a resolver la derivada numerica, en la cual utilizaremos el metodo de diferencias finitas de primer orden. en este caso utilizaremos los tre casos. Con el objetivo de onservar el comportamiento de la velocidad con respecto al tiempo.\n"
   ]
  },
  {
   "cell_type": "code",
   "execution_count": 8,
   "metadata": {},
   "outputs": [
    {
     "name": "stdout",
     "output_type": "stream",
     "text": [
      "-0.121261590701\n"
     ]
    },
    {
     "data": {
      "image/png": "[encoded data removed]",
      "text/plain": [
       "<matplotlib.figure.Figure at 0x7f3d3aef19e8>"
      ]
     },
     "metadata": {},
     "output_type": "display_data"
    }
   ],
   "source": [
    "vl1=[]\n",
    "vl2=[]\n",
    "vl3=[]\n",
    "\n",
    "tp1=[]\n",
    "tp2=[]\n",
    "tp3=[]\n",
    "\n",
    "\n",
    "for t in range (1,26):\n",
    "    \n",
    "    v2=(data[t+1,1]-data[t-1,1])/(2*(data[t,0]-data[t-1,0]))# centrada\n",
    "    vl2.append(v2)\n",
    "    tp2.append(data[t,0])\n",
    "    \n",
    "\n",
    "for t in range (1,26):\n",
    "    \n",
    "    v1=(data[t,1]-data[t-1,1])/(data[t,0]-data[t-1,0]) # hacia atras\n",
    "    vl1.append(v1)\n",
    "    tp1.append(data[t,0])\n",
    "\n",
    "    \n",
    "    \n",
    "for t in range (1,26):\n",
    "    \n",
    "    v3=(data[t+1,1]-data[t,1])/(data[t+1,0]-data[t,0])# hacia adelante\n",
    "    vl3.append(v3)\n",
    "    tp3.append(data[t,0])\n",
    "    \n",
    "    \n",
    "plot (tp1,vl1,'o',label='hacia atras')\n",
    "plot (tp2,vl2,'o',label='centrada')\n",
    "plot (tp3,vl3,'o',label='hacia adelante')\n",
    "title('Velocidad vs Tiempo')\n",
    "xlabel('t[s]')\n",
    "ylabel('v[m/s]')\n",
    "legend(loc='lower left')\n",
    "\n",
    "vi=(vl1[0]+vl2[0]+vl3[0])/3\n",
    "print (vi)"
   ]
  },
  {
   "cell_type": "markdown",
   "metadata": {},
   "source": [
    "En la grafica anterior podemos apresiar que a pesar de la dispersión de los datos, se alcanza a apreciar una tendencia a que la velocidad no aumente, esta velocidad constante representa la velocidad terminal. El negativo es devido al sistema de referencia, en este caso nos indica la dirección del objeto. Si se toma la ecuación diferencial que modela el movimiento se tiene :\n",
    "\n",
    "\\begin{equation}\n",
    "\\frac{dv}{dt}=g-\\frac{c}{m}v\n",
    "\\end{equation}\n",
    "\n",
    "Cuando $\\frac{dv}{dt}=0$ se tiene la velocidad terminal. \n",
    "Cuanto esto ocurre se obtiene: \n",
    "\n",
    "\\begin{equation}\n",
    "v_{terminal} = \\frac{gm}{c}\n",
    "\\end{equation}\n",
    "\n",
    "\n",
    "\n",
    "\n"
   ]
  },
  {
   "cell_type": "markdown",
   "metadata": {},
   "source": [
    "Ahora utilizaremos el metodo de diferencias finitas de segundo orden (caso hacia delante), para observar el comportamiento de la aceleracion con respecto al tiempo."
   ]
  },
  {
   "cell_type": "code",
   "execution_count": 9,
   "metadata": {},
   "outputs": [],
   "source": [
    "acl=[]\n",
    "tmp=[]\n",
    "h = data[1,0]-data[0,0]\n",
    "\n",
    "for t in range (25):\n",
    "    a=(data[t,1]+data[t+2,1]-2*data[t+1,1])/(h**2)# hacia adelante\n",
    "    acl.append(a)\n",
    "    tmp.append(data[t,0])"
   ]
  },
  {
   "cell_type": "code",
   "execution_count": 10,
   "metadata": {},
   "outputs": [
    {
     "data": {
      "image/png": "[encoded data removed]",
      "text/plain": [
       "<matplotlib.figure.Figure at 0x7f3d3ada12b0>"
      ]
     },
     "metadata": {},
     "output_type": "display_data"
    }
   ],
   "source": [
    "plot(tmp,acl,'o',label='hacia adelante')\n",
    "title('aceleracion vs Tiempo')\n",
    "xlabel('t[s]')\n",
    "ylabel('a[m/s]')\n",
    "legend(loc='lower left')\n",
    "grid ('on')\n",
    "   "
   ]
  },
  {
   "cell_type": "markdown",
   "metadata": {},
   "source": [
    "En esta grafica supondriamos que la aceleración del objeto debería tender a ser cero, comportamiento que no se observa debido a la dispersión de los datos. A parte de lo anterior, puede que no se hallan tomado muestras en un intervalo de tiempo suficientemente grande para garantizar que se alcanzó la velocidad terminal y esta no logro apreciarse en los datos.\n",
    "\n",
    "Para el modelo numérico, se debe fijar una velocidad terminal, esta velocidad terminal se establece a ojo una vez se observa la tendencia en la grafica anterior. Ya que no se tienen datos concluyentes, aproximadamente en el tiempo t=0.6s\n",
    "se observa que la aceleración es a=0.\n",
    "\n",
    "\\begin{equation}\n",
    "\\frac{c}{m} = \\frac{g}{v_{terminal}}\n",
    "\\end{equation}\n",
    "\n",
    "En la grafica de la velocidad con respecto al tiempo podemos notar a ojo que la velocidad terminal en este tiempo es aproximadamentes 0.7 m/s\n",
    "\n",
    "Con base a estos datos numericos se puede determinar $\\frac{c}{m}$ en función de la velocidad terminal y la gravedad, garantizando que se toman muestras para tiempos altos, donde la variación de la velocidad con respecto al tiempo sea despreciable."
   ]
  },
  {
   "cell_type": "code",
   "execution_count": 68,
   "metadata": {},
   "outputs": [
    {
     "data": {
      "image/png": "[encoded data removed]",
      "text/plain": [
       "<matplotlib.figure.Figure at 0x7f3d3ad8e1d0>"
      ]
     },
     "metadata": {},
     "output_type": "display_data"
    }
   ],
   "source": [
    "vnum=[]\n",
    "tp=[]\n",
    "vana=[]\n",
    "\n",
    "g=9.8 #gravedad m/s^2\n",
    "r=0.071  #valor de m/c\n",
    "\n",
    "\n",
    "for t in range (0,15):\n",
    "    \n",
    "    v3=abs(data[t+1,1]-data[t,1])/(data[t+1,0]-data[t,0])# hacia adelante\n",
    "    v=r*g*(1-exp(-(14)*data[t,0]))\n",
    "    \n",
    "    vnum.append(v3)\n",
    "    tp.append(data[t,1])\n",
    "    vana.append(v)\n",
    "    \n",
    "\n",
    "plot (tp,vnum,'o', label='numerico')\n",
    "plot (tp,vana, label='analitico')\n",
    "title('Altura vs Tiempo')\n",
    "xlabel('t[s]')\n",
    "ylabel('altura[m]')\n",
    "legend(loc='lower left')\n",
    "show()"
   ]
  },
  {
   "cell_type": "markdown",
   "metadata": {},
   "source": [
    "Como se observa en la gráfica anterior, el rango de alturas no se corresponde entre los datos analiticos y numericos, por lo que se podría llegar a concluir  que la velocidad terminal seleccionada no es la indicada.\n",
    "\n"
   ]
  },
  {
   "cell_type": "code",
   "execution_count": 69,
   "metadata": {},
   "outputs": [
    {
     "data": {
      "image/png": "[encoded data removed]",
      "text/plain": [
       "<matplotlib.figure.Figure at 0x7f3d3ae56a20>"
      ]
     },
     "metadata": {},
     "output_type": "display_data"
    }
   ],
   "source": [
    "vnum=[]\n",
    "tp=[]\n",
    "vana=[]\n",
    "\n",
    "#tomando una velocidad terminal de 0.451 m/s\n",
    "\n",
    "g=9.8 #gravedad m/s^2\n",
    "r=0.046  #valor de m/c\n",
    "\n",
    "\n",
    "for t in range (0,15):\n",
    "    \n",
    "    v3=abs(data[t+1,1]-data[t,1])/(data[t+1,0]-data[t,0])# hacia adelante\n",
    "    v=r*g*(1-exp(-(21.73)*data[t,0]))\n",
    "    \n",
    "    vnum.append(v3)\n",
    "    tp.append(data[t,1])\n",
    "    vana.append(v)\n",
    "    \n",
    "\n",
    "plot (tp,vnum,'o', label='numerico')\n",
    "plot (tp,vana, label='analitico')\n",
    "title('Altura vs Tiempo')\n",
    "xlabel('t[s]')\n",
    "ylabel('altura[m]')\n",
    "legend(loc='lower left')\n",
    "show()"
   ]
  },
  {
   "cell_type": "markdown",
   "metadata": {},
   "source": [
    "Jugando un poco con los valores de la velocidad terminal, se logra apreciar que a medida que la velocidad terminal es mas grander los datos se ajustan menos a comparacion de cuando se utilizan velocidades bajas, para verificar esto, se necesitarían más datos experimentales."
   ]
  },
  {
   "cell_type": "code",
   "execution_count": 63,
   "metadata": {},
   "outputs": [
    {
     "name": "stdout",
     "output_type": "stream",
     "text": [
      "614.237417335\n"
     ]
    }
   ],
   "source": [
    "vnum=[]\n",
    "tp=[]\n",
    "vana=[]\n",
    "e=[]\n",
    "\n",
    "g=9.8 #gravedad m/s^2\n",
    "r=0.051  #valor de c/m\n",
    "\n",
    "\n",
    "for t in range (1):\n",
    "    \n",
    "    v3=(data[t+1,1]-data[t,1])/(data[t+1,0]-data[t,0])# hacia adelante\n",
    "    v=r*g*(1-exp(-(19.6)*data[t,1]))\n",
    "    error=abs((v-v3)/v3)*100\n",
    "    \n",
    "    vnum.append(v3)\n",
    "    tp.append(data[t,0])\n",
    "    vana.append(v)\n",
    "    e.append(error)\n",
    "    \n",
    "    print(error)\n"
   ]
  },
  {
   "cell_type": "markdown",
   "metadata": {},
   "source": [
    "se esperaba que tendriamos un error muy elevado respecto a que los datos obtenidos son muy dispersos esto lo podimos intuir de las graficas. Como observacion podemos decir que para un mejor analisis es mejor tener mas cantidad de datos con esto estamos reduciendo el error."
   ]
  },
  {
   "cell_type": "code",
   "execution_count": null,
   "metadata": {},
   "outputs": [],
   "source": []
  }
 ],
 "metadata": {
  "kernelspec": {
   "display_name": "Python 3",
   "language": "python",
   "name": "python3"
  },
  "language_info": {
   "codemirror_mode": {
    "name": "ipython",
    "version": 3
   },
   "file_extension": ".py",
   "mimetype": "text/x-python",
   "name": "python",
   "nbconvert_exporter": "python",
   "pygments_lexer": "ipython3",
   "version": "3.7.3"
  }
 },
 "nbformat": 4,
 "nbformat_minor": 2
}
