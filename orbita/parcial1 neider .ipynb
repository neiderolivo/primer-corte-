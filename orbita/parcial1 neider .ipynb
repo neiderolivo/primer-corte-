{
 "cells": [
  {
   "cell_type": "markdown",
   "metadata": {},
   "source": [
    "el problema consite en un sistema de dos pendulos que estan acoplados por un resorte de constante (k), igual longitud y masa.\n",
    "\n",
    "<img src=\"pendulo.png\">\n",
    "simular las ecuaciones que generen el movimiento del péndulo. \n",
    "\n",
    "# solución\n",
    "\n",
    "\n",
    "\n",
    "Para la solucion de este problema, se recurre a la dinamica lagrangina con el fin de encontrar la ecuaciones diferenciales que modelen el movimiento de este sistema.\n",
    "\n",
    "por lo tanto:\n",
    "\n",
    "\\begin{equation}\n",
    "\\frac{\\partial}{\\partial t} \\left(\\frac{\\partial L}{\\partial q_i}\\right)=\\frac{\\partial L}{\\partial q_i}\n",
    "\\end{equation}\n",
    "\n",
    "Utilizando la ecuación anterior y considerando que el movimiento se va a realizar para pequeñas oscilaciones($cos\\theta=1;\\,sen\\theta=\\theta$), podemos empezar consiguiendo la expresión para nuestro lagrangiano:\n",
    "\n",
    "\\begin{equation}\n",
    "L=T-U\n",
    "\\end{equation}\n",
    "\n",
    "si:\n",
    "l= longitud de los péndulos.\n",
    "\n",
    "m= masa de los péndulos.\n",
    "\n",
    "$\\theta$= ángulo de oscilación péndulo 1\n",
    "\n",
    "$\\varphi$= ángulo de oscilación péndulo 2\n",
    "\n",
    "Para las posiciones tenemos:\n",
    "\n",
    "\\begin{equation*}\n",
    "x_{1}=l\\theta  \\Rightarrow \\, \\dot{x_1}=l\\dot{\\theta}\n",
    "\\end{equation*}\n",
    "\n",
    "\\begin{equation}\n",
    "x_{2}=l\\varphi \\Rightarrow \\, \\dot{x_2}=l\\dot{\\varphi}+l \n",
    "\\end{equation}\n",
    "\n",
    "\\begin{equation}\n",
    " y_1=-l \\Rightarrow\\, \\dot{y_1}=0\n",
    "\\end{equation}\n",
    "\n",
    "\\begin{equation}\n",
    "y_2=-l \\Rightarrow \\, \\dot{y_2}=0\n",
    "\\end{equation}\n",
    "\n",
    "calculado las energías (cinética y potencial), tenemos:\n",
    "\n",
    "\\begin{equation}\n",
    "T=\\frac{1}{2}m\\left( l^2\\dot{\\theta}^2\\right)+\\frac{1}{2}m\\left( l^2\\dot{\\varphi}^2\\right)\n",
    "\\end{equation}\n",
    "\n",
    "\\begin{equation}\n",
    "U=\\frac{mgl}{2}\\left(\\theta^2+\\varphi^2\\right)+\\frac{kl^2}{2}\\left(\\theta-\\varphi\\right)^2\n",
    "\\end{equation}\n",
    "\n",
    "por lo tanto el lagrangiano queda:\n",
    "\n",
    "\\begin{equation}\n",
    "L=\\frac{1}{2}m\\left( l^2\\dot{\\theta}^2\\right)+\\frac{1}{2}m\\left( l^2\\dot{\\varphi}^2\\right)-\\frac{mgl}{2}\\theta^2-\\frac{mgl}{2}\\varphi^2-\\frac{kl^2}{2}\\left(\\theta-\\varphi\\right)^2\n",
    "\\end{equation}\n",
    "\n",
    "aplicando la ecuacion de euler lagrange para $\\theta$:\n",
    "\n",
    "\\begin{equation}\n",
    "\\frac{\\partial L}{\\partial\\theta}-\\frac{d}{dt} \\left(\\frac{\\partial L}{\\partial \\dot{\\theta}}\\right)=0\n",
    "\\end{equation}\n",
    "\n",
    "\\begin{equation}\n",
    "\\frac{\\partial L}{\\partial\\theta}=-mgl\\theta-kl^2(\\theta-\\varphi)\n",
    "\\end{equation}\n",
    "\n",
    "\\begin{equation}\n",
    "\\frac{\\partial L}{\\partial \\dot{\\theta}}=ml^2\\dot{\\theta} \\, \\Rightarrow \\, \\frac{d}{dt} \\left(\\frac{\\partial L}{\\partial \\dot{\\theta}}\\right)=ml^2\\ddot{\\theta}\n",
    "\\end{equation}\n",
    "\n",
    "\\begin{equation}\n",
    "\\Rightarrow -mgl\\theta-kl^2(\\theta-\\varphi)-ml^2\\ddot{\\theta}=0\n",
    "\\end{equation}\n",
    "\n",
    "cancelando los negativos y reorganizando la primera ecuación diferencial nos queda:\n",
    "\n",
    "\\begin{equation}\n",
    "\\ddot{\\theta}+\\frac{g}{l}\\theta+\\frac{k}{m}(\\theta-\\varphi)=0\n",
    "\\end{equation}\n",
    "\n",
    "aplicando la ecuación de Euler lagrange para $\\varphi$:\n",
    "\n",
    "\\begin{equation}\n",
    "\\frac{\\partial L}{\\partial\\varphi}-\\frac{d}{dt} \\left(\\frac{\\partial L}{\\partial \\dot{\\varphi}}\\right)=0\n",
    "\\end{equation}\n",
    "\n",
    "\\begin{equation}\n",
    "\\frac{\\partial L}{\\partial\\varphi}=-mgl\\varphi+kl^2(\\theta-\\varphi)\n",
    "\\end{equation}\n",
    "\n",
    "\\begin{equation}\n",
    "\\frac{\\partial L}{\\partial \\dot{\\varphi}}=ml^2\\dot{\\varphi} \\, \\Rightarrow \\, \\frac{d}{dt} \\left(\\frac{\\partial L}{\\partial \\dot{\\varphi}}\\right) = ml^2\\ddot{\\varphi} \n",
    "\\end{equation}\n",
    "\n",
    "\\begin{equation}\n",
    "\\Rightarrow mgl\\varphi-kl^2(\\theta-\\varphi)+ml^2\\ddot{\\varphi} =0\n",
    "\\end{equation}\n",
    "\n",
    "Reorganizando terminos con el fin de que $\\ddot{\\varphi}$ quede solo tenemos:\n",
    "\n",
    "\\begin{equation}\n",
    "\\ddot{\\varphi}+\\frac{y}{l}\\varphi-\\frac{k}{m}(\\theta-\\varphi)=0\n",
    "\\end{equation}\n",
    "\n",
    "como  ya tenemos nuestra ecuaciones diferenciales, y son ecuaciones de segundo orden, debemos hacer una reducción de orden esto debido a que python solo soluciona ecuaciones de primer orden. Después de esto se procede a realizar el código para la simulación utilizando el método de odeint.\n",
    "\n"
   ]
  },
  {
   "cell_type": "code",
   "execution_count": 1,
   "metadata": {},
   "outputs": [
    {
     "data": {
      "text/html": [
       "<div id=\"glowscript\" class=\"glowscript\"></div>"
      ],
      "text/plain": [
       "<IPython.core.display.HTML object>"
      ]
     },
     "metadata": {},
     "output_type": "display_data"
    },
    {
     "data": {
      "application/javascript": [
       "if (typeof Jupyter !== \"undefined\") { window.__context = { glowscript_container: $(\"#glowscript\").removeAttr(\"id\")};}else{ element.textContent = ' ';}"
      ],
      "text/plain": [
       "<IPython.core.display.Javascript object>"
      ]
     },
     "metadata": {},
     "output_type": "display_data"
    },
    {
     "data": {
      "application/javascript": [
       "if (typeof Jupyter !== \"undefined\") {require.undef(\"nbextensions/vpython_libraries/glow.min\");}else{element.textContent = ' ';}"
      ],
      "text/plain": [
       "<IPython.core.display.Javascript object>"
      ]
     },
     "metadata": {},
     "output_type": "display_data"
    },
    {
     "data": {
      "application/javascript": [
       "if (typeof Jupyter !== \"undefined\") {require.undef(\"nbextensions/vpython_libraries/glowcomm\");}else{element.textContent = ' ';}"
      ],
      "text/plain": [
       "<IPython.core.display.Javascript object>"
      ]
     },
     "metadata": {},
     "output_type": "display_data"
    },
    {
     "data": {
      "application/javascript": [
       "if (typeof Jupyter !== \"undefined\") {require.undef(\"nbextensions/vpython_libraries/jquery-ui.custom.min\");}else{element.textContent = ' ';}"
      ],
      "text/plain": [
       "<IPython.core.display.Javascript object>"
      ]
     },
     "metadata": {},
     "output_type": "display_data"
    },
    {
     "data": {
      "application/javascript": [
       "if (typeof Jupyter !== \"undefined\") {require([\"nbextensions/vpython_libraries/glow.min\"], function(){console.log(\"GLOW LOADED\");});}else{element.textContent = ' ';}"
      ],
      "text/plain": [
       "<IPython.core.display.Javascript object>"
      ]
     },
     "metadata": {},
     "output_type": "display_data"
    },
    {
     "data": {
      "application/javascript": [
       "if (typeof Jupyter !== \"undefined\") {require([\"nbextensions/vpython_libraries/glowcomm\"], function(){console.log(\"GLOWCOMM LOADED\");});}else{element.textContent = ' ';}"
      ],
      "text/plain": [
       "<IPython.core.display.Javascript object>"
      ]
     },
     "metadata": {},
     "output_type": "display_data"
    },
    {
     "data": {
      "application/javascript": [
       "if (typeof Jupyter !== \"undefined\") {require([\"nbextensions/vpython_libraries/jquery-ui.custom.min\"], function(){console.log(\"JQUERY LOADED\");});}else{element.textContent = ' ';}"
      ],
      "text/plain": [
       "<IPython.core.display.Javascript object>"
      ]
     },
     "metadata": {},
     "output_type": "display_data"
    }
   ],
   "source": [
    "from numpy import array, linspace, shape,matrix,transpose\n",
    "from math import sin, cos, pi,sqrt,atan\n",
    "from scipy.integrate import odeint\n",
    "from vpython import  curve,box,cylinder,helix,sphere, scene, vector, color, arrow, text, sleep\n",
    "\n",
    "def solucion (f,t,g,l,k,m):\n",
    "    df1=f[1]\n",
    "    df2=-(g/l)*f[0]-(k/m)*(f[0]-f[2])\n",
    "    df3=f[3]\n",
    "    df4=-(g/l)*f[2]+(k/m)*(f[0]-f[2])\n",
    "    return array([df1,df2,df3,df4])\n",
    "l=10\n",
    "k=2\n",
    "m=50\n",
    "g=9.8\n",
    "thetaI=5*pi/180\n",
    "thetaIp=0\n",
    "phiI=15*pi/180\n",
    "phiIp=0\n",
    "tI=0\n",
    "tf=1000\n",
    "n=1000\n",
    "t=linspace(tI,tf,n)\n",
    "condINI=array([thetaI,thetaIp,phiI,phiIp])\n",
    "sol=odeint(solucion,condINI,t,args=(g,l,k,m))\n",
    "xp=l*thetaI\n",
    "yp=-l\n",
    "zp=0\n",
    "r=1\n",
    "\n",
    "\n",
    "\n",
    "pendulo1=sphere(pos=vector(xp,yp,zp),radius=r,color=color.green)\n",
    "pendulo2=sphere(pos=vector(xp+l,yp,zp),radius=r,color=color.green)\n",
    "#cuerda1=curve(vector(0,0,0),pendulo1.pos)\n",
    "#cuerda2=curve(vector(l,0,0),pendulo2.pos)\n",
    "\n",
    "cuerdas1=cylinder(pos=pendulo2.pos,axis=vector(0,0,0),radius=0.02,color=color.white)\n",
    "cuerdas2=cylinder(pos=pendulo2.pos,axis=vector(l,0,0),radius=0.02,color=color.white)\n",
    "base=box(pos=vector(l/2,0,0),size=vector(l+2,0.1,0.1),color=color.orange)\n",
    "spring=helix(pos=pendulo2.pos,axis=vector(0,0,0),radius=0.3,constant=k,thickness=0.1,coils=10,color=color.white)\n",
    "ti=0\n",
    "while ti<tf:\n",
    "    sleep(0.01)\n",
    "    pendulo1.pos=vector(l*sol[ti,0],yp,zp)\n",
    "    pendulo2.pos=vector(l*sol[ti,2]+l,yp,zp)\n",
    "    cuerdas2.pos=pendulo2.pos\n",
    "    cuerdas2.axis=vector(l,0,0)-cuerdas2.pos\n",
    "    cuerdas1.pos=pendulo1.pos\n",
    "    cuerdas1.axis=vector(0,0,0)-cuerdas1.pos\n",
    "    spring.pos=pendulo1.pos\n",
    "    spring.axis=pendulo2.pos-spring.pos\n",
    "    ti = ti + 1\n"
   ]
  },
  {
   "cell_type": "code",
   "execution_count": null,
   "metadata": {},
   "outputs": [],
   "source": []
  },
  {
   "cell_type": "code",
   "execution_count": null,
   "metadata": {},
   "outputs": [],
   "source": []
  },
  {
   "cell_type": "code",
   "execution_count": null,
   "metadata": {},
   "outputs": [],
   "source": []
  }
 ],
 "metadata": {
  "kernelspec": {
   "display_name": "VPython",
   "language": "python",
   "name": "vpython"
  },
  "language_info": {
   "codemirror_mode": {
    "name": "ipython",
    "version": 3
   },
   "file_extension": ".py",
   "mimetype": "text/x-python",
   "name": "python",
   "nbconvert_exporter": "python",
   "pygments_lexer": "ipython3",
   "version": "3.5.2"
  }
 },
 "nbformat": 4,
 "nbformat_minor": 2
}
